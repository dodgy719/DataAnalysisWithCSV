{
 "cells": [
  {
   "cell_type": "markdown",
   "metadata": {},
   "source": [
    "# Data Analysis with CSVs\n",
    "\n",
    "In this lesson, we'll complete a full data analysis with a raw data file. Comma Separated Values files, known as CSVs, are one of the most common file formats for storing tabular data. In this lesson, we'll show you how to load one into memory and work with it using Python.\n",
    "\n",
    "## Objectives\n",
    "\n",
    "Perform a complete data analysis by...\n",
    "\n",
    "- Creating a Python data structure from a .csv file\n",
    "- Exploring and cleaning the data\n",
    "- Conducting descriptive analysis\n",
    "- Visualizing the results\n",
    "- Loading a CSV\n",
    "- The before you can work with a CSV file, you need to load it into memory.\n"
   ]
  },
  {
   "cell_type": "markdown",
   "metadata": {},
   "source": [
    "## CSV Files\n",
    "\n",
    "A CSV file (Comma Separated Values file) is a type of plain text file that uses specific structuring to arrange tabular data. Because it’s a plain text file, it can contain only actual text data—in other words, printable ASCII or Unicode characters.\n",
    "\n",
    "The structure of a CSV file is given away by its name. Normally, CSV files use a comma to separate each specific data value. Here’s what that structure looks like:\n",
    "\n",
    "```\n",
    "column 1 name,column 2 name, column 3 name\n",
    "first row data 1,first row data 2,first row data 3\n",
    "second row data 1,second row data 2,second row data 3\n",
    "```"
   ]
  },
  {
   "cell_type": "markdown",
   "metadata": {},
   "source": [
    "Notice how each piece of data is separated by a comma. Normally, the first line identifies each piece of data—in other words, the name of a data column. Every subsequent line after that is actual data and is limited only by file size constraints.\n",
    "\n",
    "In general, the separator character is called a delimiter, and the comma is not the only one used. Other popular delimiters include the tab (\\t), colon (:) and semi-colon (;) characters. Properly parsing a CSV file requires us to know which delimiter is being used."
   ]
  },
  {
   "cell_type": "markdown",
   "metadata": {},
   "source": [
    "CSV files are normally created by programs that handle large amounts of data. They are a convenient way to export data from spreadsheets and databases as well as import or use it in other programs."
   ]
  },
  {
   "cell_type": "markdown",
   "metadata": {},
   "source": [
    "For today's lecture we will look into cleaning and analyzing a CSV file with python. We have a file included here with the materials."
   ]
  },
  {
   "cell_type": "markdown",
   "metadata": {},
   "source": [
    "## Get the File Path\n",
    "\n",
    "Make sure you have the path to your data file. For this example, it is in the root folder of this repository."
   ]
  },
  {
   "cell_type": "code",
   "execution_count": null,
   "metadata": {
    "ExecuteTime": {
     "end_time": "2022-07-28T19:09:15.272075Z",
     "start_time": "2022-07-28T19:09:15.146958Z"
    }
   },
   "outputs": [],
   "source": [
    "! ls"
   ]
  },
  {
   "cell_type": "markdown",
   "metadata": {},
   "source": [
    "We use ```.``` to indicate the root folder of the repository when working within this notebook."
   ]
  },
  {
   "cell_type": "code",
   "execution_count": null,
   "metadata": {
    "ExecuteTime": {
     "end_time": "2022-07-28T19:09:15.277618Z",
     "start_time": "2022-07-28T19:09:15.274975Z"
    }
   },
   "outputs": [],
   "source": [
    "csv_file_path = \"./hotel_bookings.csv\""
   ]
  },
  {
   "cell_type": "markdown",
   "metadata": {},
   "source": [
    "The data comes from this kaggle [dataset](https://www.kaggle.com/datasets/jessemostipak/hotel-booking-demand?resource=download) but has been modified a little to make it a little more user friendly"
   ]
  },
  {
   "cell_type": "markdown",
   "metadata": {},
   "source": [
    "## Inspecting our CSV file"
   ]
  },
  {
   "cell_type": "code",
   "execution_count": null,
   "metadata": {
    "ExecuteTime": {
     "end_time": "2022-07-28T19:09:15.285261Z",
     "start_time": "2022-07-28T19:09:15.281038Z"
    }
   },
   "outputs": [],
   "source": [
    "# This code prints the first line of the CSV file\n",
    "\n",
    "with open(csv_file_path) as csvfile:\n",
    "    print(csvfile.readline())"
   ]
  },
  {
   "cell_type": "code",
   "execution_count": null,
   "metadata": {
    "ExecuteTime": {
     "end_time": "2022-07-28T19:09:15.291005Z",
     "start_time": "2022-07-28T19:09:15.287739Z"
    }
   },
   "outputs": [],
   "source": [
    "with open(csv_file_path) as csvfile:\n",
    "    csvfile.readline()\n",
    "    print(csvfile.readline())"
   ]
  },
  {
   "cell_type": "markdown",
   "metadata": {},
   "source": [
    "## Using the ```csv``` library"
   ]
  },
  {
   "cell_type": "markdown",
   "metadata": {},
   "source": [
    "The csv library lets us easily process data in CSV files. We will use it to read each row in the .csv file and store its information in a Python object we can use for further analysis."
   ]
  },
  {
   "cell_type": "code",
   "execution_count": null,
   "metadata": {
    "ExecuteTime": {
     "end_time": "2022-07-28T19:09:15.297655Z",
     "start_time": "2022-07-28T19:09:15.292641Z"
    }
   },
   "outputs": [],
   "source": [
    "import csv"
   ]
  },
  {
   "cell_type": "markdown",
   "metadata": {},
   "source": [
    "The csv.DictReader object is a file reader, reading each row and then converting it to a dictionary. By default, it turns each row into a dictionary, using the field names from the first row as the keys."
   ]
  },
  {
   "cell_type": "code",
   "execution_count": null,
   "metadata": {
    "ExecuteTime": {
     "end_time": "2022-07-28T19:09:15.301662Z",
     "start_time": "2022-07-28T19:09:15.299040Z"
    }
   },
   "outputs": [],
   "source": [
    "# Print OrderedDict from first row of CSV file \n",
    "\n",
    "with open(csv_file_path) as csvfile:\n",
    "    reader = csv.DictReader(csvfile)\n",
    "    print(next(reader))"
   ]
  },
  {
   "cell_type": "markdown",
   "metadata": {},
   "source": [
    "Let's get all of the data out of our file and into dictionaries, and store those dictionaries in a new list called ```reservations```."
   ]
  },
  {
   "cell_type": "code",
   "execution_count": null,
   "metadata": {
    "ExecuteTime": {
     "end_time": "2022-07-28T19:09:15.313264Z",
     "start_time": "2022-07-28T19:09:15.303191Z"
    }
   },
   "outputs": [],
   "source": [
    "reservations = []\n",
    "\n",
    "with open(csv_file_path) as csvfile:\n",
    "    reader = csv.DictReader(csvfile)\n",
    "    for row in reader:\n",
    "        reservations.append(row)"
   ]
  },
  {
   "cell_type": "code",
   "execution_count": null,
   "metadata": {
    "ExecuteTime": {
     "end_time": "2022-07-28T19:09:15.325404Z",
     "start_time": "2022-07-28T19:09:15.316108Z"
    },
    "scrolled": true
   },
   "outputs": [],
   "source": [
    "# Now look at the first 3 entries\n",
    "reservations[0:3]"
   ]
  },
  {
   "cell_type": "markdown",
   "metadata": {},
   "source": [
    "### Discussion - Is this data easy to analyze? Do we need to make any changes?"
   ]
  },
  {
   "cell_type": "code",
   "execution_count": null,
   "metadata": {
    "ExecuteTime": {
     "end_time": "2022-07-28T19:09:15.331125Z",
     "start_time": "2022-07-28T19:09:15.327655Z"
    }
   },
   "outputs": [],
   "source": [
    "reservations[0]"
   ]
  },
  {
   "cell_type": "markdown",
   "metadata": {},
   "source": [
    "## Data Cleaning"
   ]
  },
  {
   "cell_type": "markdown",
   "metadata": {},
   "source": [
    "We will need to make sure that the data is in the correct data type to analyze it. Lets start by converting the strings into integers wherever needed"
   ]
  },
  {
   "cell_type": "code",
   "execution_count": null,
   "metadata": {
    "ExecuteTime": {
     "end_time": "2022-07-28T19:09:15.335922Z",
     "start_time": "2022-07-28T19:09:15.332402Z"
    }
   },
   "outputs": [],
   "source": [
    "for reservation in reservations:\n",
    "    reservation[\"adults\"] = int(reservation[\"adults\"])\n",
    "    reservation[\"children\"] = float(reservation[\"children\"])\n",
    "    reservation[\"stays_in_week_nights\"] = int(reservation[\"stays_in_week_nights\"])"
   ]
  },
  {
   "cell_type": "code",
   "execution_count": null,
   "metadata": {
    "ExecuteTime": {
     "end_time": "2022-07-28T19:09:15.341753Z",
     "start_time": "2022-07-28T19:09:15.337495Z"
    }
   },
   "outputs": [],
   "source": [
    "reservations[0]"
   ]
  },
  {
   "cell_type": "markdown",
   "metadata": {},
   "source": [
    "## Analysis"
   ]
  },
  {
   "cell_type": "markdown",
   "metadata": {},
   "source": [
    "### What is the average number of children and adults who stay in the rooms?"
   ]
  },
  {
   "cell_type": "code",
   "execution_count": null,
   "metadata": {
    "ExecuteTime": {
     "end_time": "2022-07-28T19:09:15.350018Z",
     "start_time": "2022-07-28T19:09:15.344521Z"
    }
   },
   "outputs": [],
   "source": [
    "total_adults = 0\n",
    "total_children = 0\n",
    "\n",
    "for reservation in reservations:\n",
    "    total_adults += reservation[\"adults\"]\n",
    "    total_children += reservation[\"children\"]\n",
    "    \n",
    "avg_adults = total_adults/len(reservations)\n",
    "avg_children = total_children/len(reservations)\n",
    "\n",
    "print(f\"Each reservation has on an average {avg_adults} adults and {avg_children} children\")"
   ]
  },
  {
   "cell_type": "markdown",
   "metadata": {},
   "source": [
    "Those values feel very wrong when talking about people. Lets try rounding them"
   ]
  },
  {
   "cell_type": "code",
   "execution_count": null,
   "metadata": {
    "ExecuteTime": {
     "end_time": "2022-07-28T19:09:15.357796Z",
     "start_time": "2022-07-28T19:09:15.355010Z"
    }
   },
   "outputs": [],
   "source": [
    "print(f\"Each reservation has on an average {round(avg_adults)} adults and {round(avg_children)} children\")"
   ]
  },
  {
   "cell_type": "markdown",
   "metadata": {},
   "source": [
    "### What is the average stay in week nights?"
   ]
  },
  {
   "cell_type": "code",
   "execution_count": null,
   "metadata": {
    "ExecuteTime": {
     "end_time": "2022-07-28T19:09:15.361396Z",
     "start_time": "2022-07-28T19:09:15.359602Z"
    }
   },
   "outputs": [],
   "source": [
    "# code here"
   ]
  },
  {
   "cell_type": "markdown",
   "metadata": {
    "ExecuteTime": {
     "end_time": "2022-07-28T18:54:50.065298Z",
     "start_time": "2022-07-28T18:54:50.054919Z"
    }
   },
   "source": [
    "<details>\n",
    "    <summary> Click for the solution </summary>\n",
    "\n",
    "```total_nights = 0\n",
    "\n",
    "for reservation in reservations:\n",
    "    total_nights += reservation[\"stays_in_week_nights\"]\n",
    "    \n",
    "avg_nights = total_nights/len(reservations)\n",
    "\n",
    "#print(f\"Each reservation has on an average {avg_adults}\")```\n",
    "    </details>"
   ]
  },
  {
   "cell_type": "markdown",
   "metadata": {},
   "source": [
    "### Which hotel is most popular based on the number of reservations? (there are 2 types of hotels)"
   ]
  },
  {
   "cell_type": "code",
   "execution_count": null,
   "metadata": {
    "ExecuteTime": {
     "end_time": "2022-07-28T19:09:15.365979Z",
     "start_time": "2022-07-28T19:09:15.363915Z"
    }
   },
   "outputs": [],
   "source": [
    "# code here\n",
    "# the two hotels are stored as 'City Hotel' and 'Resort Hotel'\n",
    "# store the result in a dictionary with the key \n",
    "# as the name of the hotel and the value as the number of reservations."
   ]
  },
  {
   "cell_type": "markdown",
   "metadata": {
    "ExecuteTime": {
     "end_time": "2022-07-28T18:54:50.084478Z",
     "start_time": "2022-07-28T18:54:50.077292Z"
    }
   },
   "source": [
    "<details>\n",
    "    <summary>Click to see the solution </summary\n",
    "\n",
    "```total_stays_city_hotel = 0\n",
    "total_stays_resort_hotel = 0\n",
    "\n",
    "for reservation in reservations:\n",
    "    if reservation[\"hotel\"] == \"City Hotel\":\n",
    "        total_stays_city_hotel += 1\n",
    "    elif reservation[\"hotel\"] == \"Resort Hotel\":\n",
    "        total_stays_resort_hotel += 1\n",
    "    \n",
    "\n",
    "popularity = {\"City Hotel\":total_stays_city_hotel, \"Resort Hotel\":total_stays_resort_hotel}\n",
    "    \n",
    "        \n",
    "#print(f\"The City Hotel has {total_stays_city_hotel} stays and the Resort Hotels has {total_stays_resort_hotel} stays\")```\n",
    "        </details>"
   ]
  },
  {
   "cell_type": "markdown",
   "metadata": {},
   "source": [
    "## Visualizing the results"
   ]
  },
  {
   "cell_type": "code",
   "execution_count": null,
   "metadata": {
    "ExecuteTime": {
     "end_time": "2022-07-28T19:10:46.144397Z",
     "start_time": "2022-07-28T19:10:45.917672Z"
    }
   },
   "outputs": [],
   "source": [
    "import matplotlib.pyplot as plt"
   ]
  },
  {
   "cell_type": "code",
   "execution_count": null,
   "metadata": {
    "ExecuteTime": {
     "end_time": "2022-07-28T18:55:11.661167Z",
     "start_time": "2022-07-28T18:55:11.659085Z"
    }
   },
   "outputs": [],
   "source": [
    "# add the plots here"
   ]
  },
  {
   "cell_type": "code",
   "execution_count": null,
   "metadata": {
    "ExecuteTime": {
     "end_time": "2022-07-28T18:54:50.538956Z",
     "start_time": "2022-07-28T18:54:50.537056Z"
    }
   },
   "outputs": [],
   "source": [
    "# Make a bar plot based on the dictionary you created for the third analysis question"
   ]
  },
  {
   "cell_type": "markdown",
   "metadata": {},
   "source": [
    "<details>\n",
    "    <summary> Click to see the solution </summary>\n",
    "    \n",
    "```\n",
    "fig, ax = plt.subplots(nrows=1, ncols=1, figsize=(10, 5))\n",
    "ax.bar(popularity.keys(),\n",
    "       popularity.values())\n",
    "# set axis labels\n",
    "ax.set_xlabel(\"Hotel Name\")\n",
    "ax.set_ylabel(\"Number of Reservations\")\n",
    "\n",
    "# give the bar chart a title\n",
    "ax.set_title(\"Most Popular Hotels\")\n",
    "\n",
    "# display bar chart clearly\n",
    "fig.tight_layout()\n",
    "    </details>"
   ]
  },
  {
   "cell_type": "code",
   "execution_count": null,
   "metadata": {},
   "outputs": [],
   "source": []
  }
 ],
 "metadata": {
  "kernelspec": {
   "display_name": "Python 3",
   "language": "python",
   "name": "python3"
  },
  "language_info": {
   "codemirror_mode": {
    "name": "ipython",
    "version": 3
   },
   "file_extension": ".py",
   "mimetype": "text/x-python",
   "name": "python",
   "nbconvert_exporter": "python",
   "pygments_lexer": "ipython3",
   "version": "3.8.5"
  },
  "toc": {
   "base_numbering": 1,
   "nav_menu": {},
   "number_sections": true,
   "sideBar": true,
   "skip_h1_title": false,
   "title_cell": "Table of Contents",
   "title_sidebar": "Contents",
   "toc_cell": false,
   "toc_position": {},
   "toc_section_display": true,
   "toc_window_display": false
  },
  "varInspector": {
   "cols": {
    "lenName": 16,
    "lenType": 16,
    "lenVar": 40
   },
   "kernels_config": {
    "python": {
     "delete_cmd_postfix": "",
     "delete_cmd_prefix": "del ",
     "library": "var_list.py",
     "varRefreshCmd": "print(var_dic_list())"
    },
    "r": {
     "delete_cmd_postfix": ") ",
     "delete_cmd_prefix": "rm(",
     "library": "var_list.r",
     "varRefreshCmd": "cat(var_dic_list()) "
    }
   },
   "types_to_exclude": [
    "module",
    "function",
    "builtin_function_or_method",
    "instance",
    "_Feature"
   ],
   "window_display": false
  }
 },
 "nbformat": 4,
 "nbformat_minor": 4
}
