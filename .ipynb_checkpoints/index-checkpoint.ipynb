{
 "cells": [
  {
   "cell_type": "markdown",
   "metadata": {},
   "source": [
    "# Data Analysis with CSVs\n",
    "\n",
    "In this lesson, we'll complete a full data analysis with a raw data file. Comma Separated Values files, known as CSVs, are one of the most common file formats for storing tabular data. In this lesson, we'll show you how to load one into memory and work with it using Python.\n",
    "\n",
    "## Objectives\n",
    "\n",
    "Perform a complete data analysis by...\n",
    "\n",
    "- Creating a Python data structure from a .csv file\n",
    "- Exploring and cleaning the data\n",
    "- Conducting descriptive analysis\n",
    "- Visualizing the results\n",
    "- Loading a CSV\n",
    "- The before you can work with a CSV file, you need to load it into memory.\n"
   ]
  },
  {
   "cell_type": "markdown",
   "metadata": {},
   "source": [
    "## CSV Files\n",
    "\n",
    "A CSV file (Comma Separated Values file) is a type of plain text file that uses specific structuring to arrange tabular data. Because it’s a plain text file, it can contain only actual text data—in other words, printable ASCII or Unicode characters.\n",
    "\n",
    "The structure of a CSV file is given away by its name. Normally, CSV files use a comma to separate each specific data value. Here’s what that structure looks like:\n",
    "\n",
    "```\n",
    "column 1 name,column 2 name, column 3 name\n",
    "first row data 1,first row data 2,first row data 3\n",
    "second row data 1,second row data 2,second row data 3\n",
    "```"
   ]
  },
  {
   "cell_type": "markdown",
   "metadata": {},
   "source": [
    "Notice how each piece of data is separated by a comma. Normally, the first line identifies each piece of data—in other words, the name of a data column. Every subsequent line after that is actual data and is limited only by file size constraints.\n",
    "\n",
    "In general, the separator character is called a delimiter, and the comma is not the only one used. Other popular delimiters include the tab (\\t), colon (:) and semi-colon (;) characters. Properly parsing a CSV file requires us to know which delimiter is being used."
   ]
  },
  {
   "cell_type": "markdown",
   "metadata": {},
   "source": [
    "CSV files are normally created by programs that handle large amounts of data. They are a convenient way to export data from spreadsheets and databases as well as import or use it in other programs."
   ]
  },
  {
   "cell_type": "markdown",
   "metadata": {},
   "source": [
    "For today's lecture we will look into cleaning and analyzing a CSV file with python. We have a file included here with the materials."
   ]
  },
  {
   "cell_type": "markdown",
   "metadata": {},
   "source": [
    "## Get the File Path\n",
    "\n",
    "Make sure you have the path to your data file. For this example, it is in the root folder of this repository."
   ]
  },
  {
   "cell_type": "code",
   "execution_count": null,
   "metadata": {
    "ExecuteTime": {
     "end_time": "2022-07-28T18:35:21.241283Z",
     "start_time": "2022-07-28T18:35:21.116772Z"
    }
   },
   "outputs": [],
   "source": [
    "! ls"
   ]
  },
  {
   "cell_type": "markdown",
   "metadata": {},
   "source": [
    "We use ```.``` to indicate the root folder of the repository when working within this notebook."
   ]
  },
  {
   "cell_type": "code",
   "execution_count": null,
   "metadata": {
    "ExecuteTime": {
     "end_time": "2022-07-28T18:35:21.245520Z",
     "start_time": "2022-07-28T18:35:21.243397Z"
    }
   },
   "outputs": [],
   "source": [
    "csv_file_path = \"./hotel_bookings.csv\""
   ]
  },
  {
   "cell_type": "markdown",
   "metadata": {},
   "source": [
    "The data comes from this kaggle [dataset](https://www.kaggle.com/datasets/jessemostipak/hotel-booking-demand?resource=download) but has been modified a little to make it a little more user friendly"
   ]
  },
  {
   "cell_type": "markdown",
   "metadata": {},
   "source": [
    "## Inspecting our CSV file"
   ]
  },
  {
   "cell_type": "code",
   "execution_count": null,
   "metadata": {
    "ExecuteTime": {
     "end_time": "2022-07-28T18:35:21.250663Z",
     "start_time": "2022-07-28T18:35:21.247930Z"
    }
   },
   "outputs": [],
   "source": [
    "# This code prints the first line of the CSV file\n",
    "\n",
    "with open(csv_file_path) as csvfile:\n",
    "    print(csvfile.readline())"
   ]
  },
  {
   "cell_type": "code",
   "execution_count": null,
   "metadata": {
    "ExecuteTime": {
     "end_time": "2022-07-28T18:35:21.256333Z",
     "start_time": "2022-07-28T18:35:21.252738Z"
    }
   },
   "outputs": [],
   "source": [
    "with open(csv_file_path) as csvfile:\n",
    "    csvfile.readline()\n",
    "    print(csvfile.readline())"
   ]
  },
  {
   "cell_type": "markdown",
   "metadata": {},
   "source": [
    "## Using the ```csv``` library"
   ]
  },
  {
   "cell_type": "markdown",
   "metadata": {},
   "source": [
    "The csv library lets us easily process data in CSV files. We will use it to read each row in the .csv file and store its information in a Python object we can use for further analysis."
   ]
  },
  {
   "cell_type": "code",
   "execution_count": null,
   "metadata": {
    "ExecuteTime": {
     "end_time": "2022-07-28T18:35:21.263371Z",
     "start_time": "2022-07-28T18:35:21.258143Z"
    }
   },
   "outputs": [],
   "source": [
    "import csv"
   ]
  },
  {
   "cell_type": "markdown",
   "metadata": {},
   "source": [
    "The csv.DictReader object is a file reader, reading each row and then converting it to a dictionary. By default, it turns each row into a dictionary, using the field names from the first row as the keys."
   ]
  },
  {
   "cell_type": "code",
   "execution_count": null,
   "metadata": {
    "ExecuteTime": {
     "end_time": "2022-07-28T18:35:21.268308Z",
     "start_time": "2022-07-28T18:35:21.265352Z"
    }
   },
   "outputs": [],
   "source": [
    "# Print OrderedDict from first row of CSV file \n",
    "\n",
    "with open(csv_file_path) as csvfile:\n",
    "    reader = csv.DictReader(csvfile)\n",
    "    print(next(reader))"
   ]
  },
  {
   "cell_type": "markdown",
   "metadata": {},
   "source": [
    "Let's get all of the data out of our file and into dictionaries, and store those dictionaries in a new list called ```reservations```."
   ]
  },
  {
   "cell_type": "code",
   "execution_count": null,
   "metadata": {
    "ExecuteTime": {
     "end_time": "2022-07-28T18:35:21.278448Z",
     "start_time": "2022-07-28T18:35:21.269599Z"
    }
   },
   "outputs": [],
   "source": [
    "reservations = []\n",
    "\n",
    "with open(csv_file_path) as csvfile:\n",
    "    reader = csv.DictReader(csvfile)\n",
    "    for row in reader:\n",
    "        reservations.append(row)"
   ]
  },
  {
   "cell_type": "code",
   "execution_count": null,
   "metadata": {
    "ExecuteTime": {
     "end_time": "2022-07-28T18:35:21.291013Z",
     "start_time": "2022-07-28T18:35:21.281378Z"
    },
    "scrolled": true
   },
   "outputs": [],
   "source": [
    "# Now look at the first 3 entries\n",
    "reservations[0:3]"
   ]
  },
  {
   "cell_type": "markdown",
   "metadata": {},
   "source": [
    "### Discussion - Is this data easy to analyze? Do we need to make any changes?"
   ]
  },
  {
   "cell_type": "code",
   "execution_count": null,
   "metadata": {
    "ExecuteTime": {
     "end_time": "2022-07-28T18:35:21.298422Z",
     "start_time": "2022-07-28T18:35:21.294017Z"
    }
   },
   "outputs": [],
   "source": [
    "reservations[0]"
   ]
  },
  {
   "cell_type": "markdown",
   "metadata": {},
   "source": [
    "## Data Cleaning"
   ]
  },
  {
   "cell_type": "markdown",
   "metadata": {},
   "source": [
    "We will need to make sure that the data is in the correct data type to analyze it. Lets start by converting the strings into integers wherever needed"
   ]
  },
  {
   "cell_type": "code",
   "execution_count": null,
   "metadata": {
    "ExecuteTime": {
     "end_time": "2022-07-28T18:35:21.305122Z",
     "start_time": "2022-07-28T18:35:21.300642Z"
    }
   },
   "outputs": [],
   "source": [
    "for reservation in reservations:\n",
    "    reservation[\"adults\"] = int(reservation[\"adults\"])\n",
    "    reservation[\"children\"] = float(reservation[\"children\"])\n",
    "    reservation[\"stays_in_week_nights\"] = int(reservation[\"stays_in_week_nights\"])"
   ]
  },
  {
   "cell_type": "code",
   "execution_count": null,
   "metadata": {
    "ExecuteTime": {
     "end_time": "2022-07-28T18:35:21.310650Z",
     "start_time": "2022-07-28T18:35:21.307045Z"
    }
   },
   "outputs": [],
   "source": [
    "reservations[0]"
   ]
  },
  {
   "cell_type": "markdown",
   "metadata": {},
   "source": [
    "## Analysis"
   ]
  },
  {
   "cell_type": "markdown",
   "metadata": {},
   "source": [
    "### What is the average number of children and adults who stay in the rooms?"
   ]
  },
  {
   "cell_type": "code",
   "execution_count": null,
   "metadata": {
    "ExecuteTime": {
     "end_time": "2022-07-28T18:35:21.315719Z",
     "start_time": "2022-07-28T18:35:21.312178Z"
    }
   },
   "outputs": [],
   "source": [
    "total_adults = 0\n",
    "total_children = 0\n",
    "\n",
    "for reservation in reservations:\n",
    "    total_adults += reservation[\"adults\"]\n",
    "    total_children += reservation[\"children\"]\n",
    "    \n",
    "avg_adults = total_adults/len(reservations)\n",
    "avg_children = total_children/len(reservations)\n",
    "\n",
    "print(f\"Each reservation has on an average {avg_adults} adults and {avg_children} children\")"
   ]
  },
  {
   "cell_type": "markdown",
   "metadata": {},
   "source": [
    "Those values feel very wrong when talking about people. Lets try rounding them"
   ]
  },
  {
   "cell_type": "code",
   "execution_count": null,
   "metadata": {
    "ExecuteTime": {
     "end_time": "2022-07-28T18:35:21.320849Z",
     "start_time": "2022-07-28T18:35:21.317397Z"
    }
   },
   "outputs": [],
   "source": [
    "print(f\"Each reservation has on an average {round(avg_adults)} adults and {round(avg_children)} children\")"
   ]
  },
  {
   "cell_type": "markdown",
   "metadata": {},
   "source": [
    "### What is the average stay in week nights?"
   ]
  },
  {
   "cell_type": "code",
   "execution_count": null,
   "metadata": {
    "ExecuteTime": {
     "end_time": "2022-07-28T18:35:21.326108Z",
     "start_time": "2022-07-28T18:35:21.323568Z"
    }
   },
   "outputs": [],
   "source": [
    "# code here"
   ]
  },
  {
   "cell_type": "code",
   "execution_count": null,
   "metadata": {
    "ExecuteTime": {
     "end_time": "2022-07-28T18:35:21.334355Z",
     "start_time": "2022-07-28T18:35:21.328939Z"
    }
   },
   "outputs": [],
   "source": [
    "from IPython.display import HTML\n",
    "from IPython.display import display\n",
    "\n",
    "# Taken from https://stackoverflow.com/questions/31517194/how-to-hide-one-specific-cell-input-or-output-in-ipython-notebook\n",
    "tag = HTML('''<script>\n",
    "code_show=true; \n",
    "function code_toggle() {\n",
    "    if (code_show){\n",
    "        $('div.cell.code_cell.rendered.selected div.input').hide();\n",
    "    } else {\n",
    "        $('div.cell.code_cell.rendered.selected div.input').show();\n",
    "    }\n",
    "    code_show = !code_show\n",
    "} \n",
    "$( document ).ready(code_toggle);\n",
    "</script>\n",
    "To view the solution click <a href=\"javascript:code_toggle()\">here</a>.''')\n",
    "display(tag)\n",
    "\n",
    "## ignore the code above this line\n",
    "\n",
    "total_nights = 0\n",
    "\n",
    "for reservation in reservations:\n",
    "    total_nights += reservation[\"stays_in_week_nights\"]\n",
    "    \n",
    "avg_nights = total_nights/len(reservations)\n",
    "\n",
    "#print(f\"Each reservation has on an average {avg_adults}\")"
   ]
  },
  {
   "cell_type": "markdown",
   "metadata": {},
   "source": [
    "### Which hotel is most popular based on the number of reservations? (there are 2 types of hotels)"
   ]
  },
  {
   "cell_type": "code",
   "execution_count": null,
   "metadata": {
    "ExecuteTime": {
     "end_time": "2022-07-28T18:35:21.337681Z",
     "start_time": "2022-07-28T18:35:21.336022Z"
    }
   },
   "outputs": [],
   "source": [
    "# code here\n",
    "# the two hotels are stored as 'City Hotel' and 'Resort Hotel'\n",
    "# store the result in a dictionary with the key \n",
    "# as the name of the hotel and the value as the number of reservations."
   ]
  },
  {
   "cell_type": "code",
   "execution_count": null,
   "metadata": {
    "ExecuteTime": {
     "end_time": "2022-07-28T18:35:21.344829Z",
     "start_time": "2022-07-28T18:35:21.339548Z"
    }
   },
   "outputs": [],
   "source": [
    "from IPython.display import HTML\n",
    "from IPython.display import display\n",
    "\n",
    "# Taken from https://stackoverflow.com/questions/31517194/how-to-hide-one-specific-cell-input-or-output-in-ipython-notebook\n",
    "tag = HTML('''<script>\n",
    "code_show=true; \n",
    "function code_toggle() {\n",
    "    if (code_show){\n",
    "        $('div.cell.code_cell.rendered.selected div.input').hide();\n",
    "    } else {\n",
    "        $('div.cell.code_cell.rendered.selected div.input').show();\n",
    "    }\n",
    "    code_show = !code_show\n",
    "} \n",
    "$( document ).ready(code_toggle);\n",
    "</script>\n",
    "To show/hide this cell's raw code input, click <a href=\"javascript:code_toggle()\">here</a>.''')\n",
    "display(tag)\n",
    "\n",
    "\n",
    "## ignore the code above this line\n",
    "\n",
    "total_stays_city_hotel = 0\n",
    "total_stays_resort_hotel = 0\n",
    "\n",
    "for reservation in reservations:\n",
    "    if reservation[\"hotel\"] == \"City Hotel\":\n",
    "        total_stays_city_hotel += 1\n",
    "    elif reservation[\"hotel\"] == \"Resort Hotel\":\n",
    "        total_stays_resort_hotel += 1\n",
    "    \n",
    "\n",
    "#print(f\"The City Hotel has {total_stays_city_hotel} stays and the Resort Hotels\" +\\\n",
    "#        f\" has {total_stays_resort_hotel} stays\")"
   ]
  },
  {
   "cell_type": "markdown",
   "metadata": {},
   "source": [
    "## Visualizing the results"
   ]
  },
  {
   "cell_type": "code",
   "execution_count": null,
   "metadata": {
    "ExecuteTime": {
     "end_time": "2022-07-28T18:35:21.740903Z",
     "start_time": "2022-07-28T18:35:21.346211Z"
    }
   },
   "outputs": [],
   "source": [
    "import matplotlib.pyplot as plt"
   ]
  },
  {
   "cell_type": "code",
   "execution_count": null,
   "metadata": {
    "ExecuteTime": {
     "end_time": "2022-07-28T18:35:21.744483Z",
     "start_time": "2022-07-28T18:35:21.742589Z"
    }
   },
   "outputs": [],
   "source": [
    "# Make a bar plot based on the dictionary you created for the third analysis question"
   ]
  }
 ],
 "metadata": {
  "kernelspec": {
   "display_name": "Python 3",
   "language": "python",
   "name": "python3"
  },
  "language_info": {
   "codemirror_mode": {
    "name": "ipython",
    "version": 3
   },
   "file_extension": ".py",
   "mimetype": "text/x-python",
   "name": "python",
   "nbconvert_exporter": "python",
   "pygments_lexer": "ipython3",
   "version": "3.8.5"
  },
  "toc": {
   "base_numbering": 1,
   "nav_menu": {},
   "number_sections": true,
   "sideBar": true,
   "skip_h1_title": false,
   "title_cell": "Table of Contents",
   "title_sidebar": "Contents",
   "toc_cell": false,
   "toc_position": {},
   "toc_section_display": true,
   "toc_window_display": false
  },
  "varInspector": {
   "cols": {
    "lenName": 16,
    "lenType": 16,
    "lenVar": 40
   },
   "kernels_config": {
    "python": {
     "delete_cmd_postfix": "",
     "delete_cmd_prefix": "del ",
     "library": "var_list.py",
     "varRefreshCmd": "print(var_dic_list())"
    },
    "r": {
     "delete_cmd_postfix": ") ",
     "delete_cmd_prefix": "rm(",
     "library": "var_list.r",
     "varRefreshCmd": "cat(var_dic_list()) "
    }
   },
   "types_to_exclude": [
    "module",
    "function",
    "builtin_function_or_method",
    "instance",
    "_Feature"
   ],
   "window_display": false
  }
 },
 "nbformat": 4,
 "nbformat_minor": 4
}
