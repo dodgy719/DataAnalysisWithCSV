{
 "cells": [
  {
   "cell_type": "markdown",
   "metadata": {},
   "source": [
    "# Data Analysis with CSVs\n",
    "\n",
    "In this lesson, we'll complete a full data analysis with a raw data file. Comma Separated Values files, known as CSVs, are one of the most common file formats for storing tabular data. In this lesson, we'll show you how to load one into memory and work with it using Python.\n",
    "\n",
    "## Objectives\n",
    "\n",
    "Perform a complete data analysis by...\n",
    "\n",
    "- Creating a Python data structure from a .csv file\n",
    "- Exploring and cleaning the data\n",
    "- Conducting descriptive analysis\n",
    "- Visualizing the results\n",
    "- Loading a CSV\n",
    "- The before you can work with a CSV file, you need to load it into memory.\n"
   ]
  },
  {
   "cell_type": "markdown",
   "metadata": {},
   "source": [
    "## CSV Files\n",
    "\n",
    "A CSV file (Comma Separated Values file) is a type of plain text file that uses specific structuring to arrange tabular data. Because it’s a plain text file, it can contain only actual text data—in other words, printable ASCII or Unicode characters.\n",
    "\n",
    "The structure of a CSV file is given away by its name. Normally, CSV files use a comma to separate each specific data value. Here’s what that structure looks like:\n",
    "\n",
    "```\n",
    "column 1 name,column 2 name, column 3 name\n",
    "first row data 1,first row data 2,first row data 3\n",
    "second row data 1,second row data 2,second row data 3\n",
    "```"
   ]
  },
  {
   "cell_type": "markdown",
   "metadata": {},
   "source": [
    "Notice how each piece of data is separated by a comma. Normally, the first line identifies each piece of data—in other words, the name of a data column. Every subsequent line after that is actual data and is limited only by file size constraints.\n",
    "\n",
    "In general, the separator character is called a delimiter, and the comma is not the only one used. Other popular delimiters include the tab (\\t), colon (:) and semi-colon (;) characters. Properly parsing a CSV file requires us to know which delimiter is being used."
   ]
  },
  {
   "cell_type": "markdown",
   "metadata": {},
   "source": [
    "CSV files are normally created by programs that handle large amounts of data. They are a convenient way to export data from spreadsheets and databases as well as import or use it in other programs."
   ]
  },
  {
   "cell_type": "markdown",
   "metadata": {},
   "source": [
    "For today's lecture we will look into cleaning and analyzing a CSV file with python. We have a file included here with the materials."
   ]
  },
  {
   "cell_type": "markdown",
   "metadata": {},
   "source": [
    "## Get the File Path\n",
    "\n",
    "Make sure you have the path to your data file. For this example, it is in the root folder of this repository."
   ]
  },
  {
   "cell_type": "code",
   "execution_count": 1,
   "metadata": {
    "ExecuteTime": {
     "end_time": "2022-07-28T18:54:49.963327Z",
     "start_time": "2022-07-28T18:54:49.841888Z"
    }
   },
   "outputs": [
    {
     "name": "stdout",
     "output_type": "stream",
     "text": [
      "hotel_bookings.csv index.ipynb\r\n"
     ]
    }
   ],
   "source": [
    "! ls"
   ]
  },
  {
   "cell_type": "markdown",
   "metadata": {},
   "source": [
    "We use ```.``` to indicate the root folder of the repository when working within this notebook."
   ]
  },
  {
   "cell_type": "code",
   "execution_count": 2,
   "metadata": {
    "ExecuteTime": {
     "end_time": "2022-07-28T18:54:49.968778Z",
     "start_time": "2022-07-28T18:54:49.966061Z"
    }
   },
   "outputs": [],
   "source": [
    "csv_file_path = \"./hotel_bookings.csv\""
   ]
  },
  {
   "cell_type": "markdown",
   "metadata": {},
   "source": [
    "The data comes from this kaggle [dataset](https://www.kaggle.com/datasets/jessemostipak/hotel-booking-demand?resource=download) but has been modified a little to make it a little more user friendly"
   ]
  },
  {
   "cell_type": "markdown",
   "metadata": {},
   "source": [
    "## Inspecting our CSV file"
   ]
  },
  {
   "cell_type": "code",
   "execution_count": 3,
   "metadata": {
    "ExecuteTime": {
     "end_time": "2022-07-28T18:54:49.975726Z",
     "start_time": "2022-07-28T18:54:49.971975Z"
    }
   },
   "outputs": [
    {
     "name": "stdout",
     "output_type": "stream",
     "text": [
      "hotel,is_canceled,lead_time,arrival_date_year,arrival_date_month,arrival_date_week_number,arrival_date_day_of_month,stays_in_weekend_nights,stays_in_week_nights,adults,children,babies,reserved_room_type,assigned_room_type\n",
      "\n"
     ]
    }
   ],
   "source": [
    "# This code prints the first line of the CSV file\n",
    "\n",
    "with open(csv_file_path) as csvfile:\n",
    "    print(csvfile.readline())"
   ]
  },
  {
   "cell_type": "code",
   "execution_count": 4,
   "metadata": {
    "ExecuteTime": {
     "end_time": "2022-07-28T18:54:49.981592Z",
     "start_time": "2022-07-28T18:54:49.977869Z"
    }
   },
   "outputs": [
    {
     "name": "stdout",
     "output_type": "stream",
     "text": [
      "Resort Hotel,0,98,2016,June,27,26,2,4,3,0.0,0,A,C\n",
      "\n"
     ]
    }
   ],
   "source": [
    "with open(csv_file_path) as csvfile:\n",
    "    csvfile.readline()\n",
    "    print(csvfile.readline())"
   ]
  },
  {
   "cell_type": "markdown",
   "metadata": {},
   "source": [
    "## Using the ```csv``` library"
   ]
  },
  {
   "cell_type": "markdown",
   "metadata": {},
   "source": [
    "The csv library lets us easily process data in CSV files. We will use it to read each row in the .csv file and store its information in a Python object we can use for further analysis."
   ]
  },
  {
   "cell_type": "code",
   "execution_count": 5,
   "metadata": {
    "ExecuteTime": {
     "end_time": "2022-07-28T18:54:49.988425Z",
     "start_time": "2022-07-28T18:54:49.983272Z"
    }
   },
   "outputs": [],
   "source": [
    "import csv"
   ]
  },
  {
   "cell_type": "markdown",
   "metadata": {},
   "source": [
    "The csv.DictReader object is a file reader, reading each row and then converting it to a dictionary. By default, it turns each row into a dictionary, using the field names from the first row as the keys."
   ]
  },
  {
   "cell_type": "code",
   "execution_count": 6,
   "metadata": {
    "ExecuteTime": {
     "end_time": "2022-07-28T18:54:49.994298Z",
     "start_time": "2022-07-28T18:54:49.990717Z"
    }
   },
   "outputs": [
    {
     "name": "stdout",
     "output_type": "stream",
     "text": [
      "{'hotel': 'Resort Hotel', 'is_canceled': '0', 'lead_time': '98', 'arrival_date_year': '2016', 'arrival_date_month': 'June', 'arrival_date_week_number': '27', 'arrival_date_day_of_month': '26', 'stays_in_weekend_nights': '2', 'stays_in_week_nights': '4', 'adults': '3', 'children': '0.0', 'babies': '0', 'reserved_room_type': 'A', 'assigned_room_type': 'C'}\n"
     ]
    }
   ],
   "source": [
    "# Print OrderedDict from first row of CSV file \n",
    "\n",
    "with open(csv_file_path) as csvfile:\n",
    "    reader = csv.DictReader(csvfile)\n",
    "    print(next(reader))"
   ]
  },
  {
   "cell_type": "markdown",
   "metadata": {},
   "source": [
    "Let's get all of the data out of our file and into dictionaries, and store those dictionaries in a new list called ```reservations```."
   ]
  },
  {
   "cell_type": "code",
   "execution_count": 7,
   "metadata": {
    "ExecuteTime": {
     "end_time": "2022-07-28T18:54:50.008299Z",
     "start_time": "2022-07-28T18:54:49.996216Z"
    }
   },
   "outputs": [],
   "source": [
    "reservations = []\n",
    "\n",
    "with open(csv_file_path) as csvfile:\n",
    "    reader = csv.DictReader(csvfile)\n",
    "    for row in reader:\n",
    "        reservations.append(row)"
   ]
  },
  {
   "cell_type": "code",
   "execution_count": 8,
   "metadata": {
    "ExecuteTime": {
     "end_time": "2022-07-28T18:54:50.019018Z",
     "start_time": "2022-07-28T18:54:50.011515Z"
    },
    "scrolled": true
   },
   "outputs": [
    {
     "data": {
      "text/plain": [
       "[{'hotel': 'Resort Hotel',\n",
       "  'is_canceled': '0',\n",
       "  'lead_time': '98',\n",
       "  'arrival_date_year': '2016',\n",
       "  'arrival_date_month': 'June',\n",
       "  'arrival_date_week_number': '27',\n",
       "  'arrival_date_day_of_month': '26',\n",
       "  'stays_in_weekend_nights': '2',\n",
       "  'stays_in_week_nights': '4',\n",
       "  'adults': '3',\n",
       "  'children': '0.0',\n",
       "  'babies': '0',\n",
       "  'reserved_room_type': 'A',\n",
       "  'assigned_room_type': 'C'},\n",
       " {'hotel': 'Resort Hotel',\n",
       "  'is_canceled': '0',\n",
       "  'lead_time': '190',\n",
       "  'arrival_date_year': '2016',\n",
       "  'arrival_date_month': 'April',\n",
       "  'arrival_date_week_number': '16',\n",
       "  'arrival_date_day_of_month': '10',\n",
       "  'stays_in_weekend_nights': '2',\n",
       "  'stays_in_week_nights': '5',\n",
       "  'adults': '1',\n",
       "  'children': '0.0',\n",
       "  'babies': '0',\n",
       "  'reserved_room_type': 'A',\n",
       "  'assigned_room_type': 'A'},\n",
       " {'hotel': 'Resort Hotel',\n",
       "  'is_canceled': '0',\n",
       "  'lead_time': '202',\n",
       "  'arrival_date_year': '2017',\n",
       "  'arrival_date_month': 'May',\n",
       "  'arrival_date_week_number': '18',\n",
       "  'arrival_date_day_of_month': '4',\n",
       "  'stays_in_weekend_nights': '0',\n",
       "  'stays_in_week_nights': '1',\n",
       "  'adults': '2',\n",
       "  'children': '0.0',\n",
       "  'babies': '0',\n",
       "  'reserved_room_type': 'D',\n",
       "  'assigned_room_type': 'D'}]"
      ]
     },
     "execution_count": 8,
     "metadata": {},
     "output_type": "execute_result"
    }
   ],
   "source": [
    "# Now look at the first 3 entries\n",
    "reservations[0:3]"
   ]
  },
  {
   "cell_type": "markdown",
   "metadata": {},
   "source": [
    "### Discussion - Is this data easy to analyze? Do we need to make any changes?"
   ]
  },
  {
   "cell_type": "code",
   "execution_count": 9,
   "metadata": {
    "ExecuteTime": {
     "end_time": "2022-07-28T18:54:50.028097Z",
     "start_time": "2022-07-28T18:54:50.022575Z"
    }
   },
   "outputs": [
    {
     "data": {
      "text/plain": [
       "{'hotel': 'Resort Hotel',\n",
       " 'is_canceled': '0',\n",
       " 'lead_time': '98',\n",
       " 'arrival_date_year': '2016',\n",
       " 'arrival_date_month': 'June',\n",
       " 'arrival_date_week_number': '27',\n",
       " 'arrival_date_day_of_month': '26',\n",
       " 'stays_in_weekend_nights': '2',\n",
       " 'stays_in_week_nights': '4',\n",
       " 'adults': '3',\n",
       " 'children': '0.0',\n",
       " 'babies': '0',\n",
       " 'reserved_room_type': 'A',\n",
       " 'assigned_room_type': 'C'}"
      ]
     },
     "execution_count": 9,
     "metadata": {},
     "output_type": "execute_result"
    }
   ],
   "source": [
    "reservations[0]"
   ]
  },
  {
   "cell_type": "markdown",
   "metadata": {},
   "source": [
    "## Data Cleaning"
   ]
  },
  {
   "cell_type": "markdown",
   "metadata": {},
   "source": [
    "We will need to make sure that the data is in the correct data type to analyze it. Lets start by converting the strings into integers wherever needed"
   ]
  },
  {
   "cell_type": "code",
   "execution_count": 10,
   "metadata": {
    "ExecuteTime": {
     "end_time": "2022-07-28T18:54:50.034418Z",
     "start_time": "2022-07-28T18:54:50.030013Z"
    }
   },
   "outputs": [],
   "source": [
    "for reservation in reservations:\n",
    "    reservation[\"adults\"] = int(reservation[\"adults\"])\n",
    "    reservation[\"children\"] = float(reservation[\"children\"])\n",
    "    reservation[\"stays_in_week_nights\"] = int(reservation[\"stays_in_week_nights\"])"
   ]
  },
  {
   "cell_type": "code",
   "execution_count": 11,
   "metadata": {
    "ExecuteTime": {
     "end_time": "2022-07-28T18:54:50.040291Z",
     "start_time": "2022-07-28T18:54:50.036319Z"
    }
   },
   "outputs": [
    {
     "data": {
      "text/plain": [
       "{'hotel': 'Resort Hotel',\n",
       " 'is_canceled': '0',\n",
       " 'lead_time': '98',\n",
       " 'arrival_date_year': '2016',\n",
       " 'arrival_date_month': 'June',\n",
       " 'arrival_date_week_number': '27',\n",
       " 'arrival_date_day_of_month': '26',\n",
       " 'stays_in_weekend_nights': '2',\n",
       " 'stays_in_week_nights': 4,\n",
       " 'adults': 3,\n",
       " 'children': 0.0,\n",
       " 'babies': '0',\n",
       " 'reserved_room_type': 'A',\n",
       " 'assigned_room_type': 'C'}"
      ]
     },
     "execution_count": 11,
     "metadata": {},
     "output_type": "execute_result"
    }
   ],
   "source": [
    "reservations[0]"
   ]
  },
  {
   "cell_type": "markdown",
   "metadata": {},
   "source": [
    "## Analysis"
   ]
  },
  {
   "cell_type": "markdown",
   "metadata": {},
   "source": [
    "### What is the average number of children and adults who stay in the rooms?"
   ]
  },
  {
   "cell_type": "code",
   "execution_count": 12,
   "metadata": {
    "ExecuteTime": {
     "end_time": "2022-07-28T18:54:50.045147Z",
     "start_time": "2022-07-28T18:54:50.041563Z"
    }
   },
   "outputs": [
    {
     "name": "stdout",
     "output_type": "stream",
     "text": [
      "Each reservation has on an average 1.8425 adults and 0.1245 children\n"
     ]
    }
   ],
   "source": [
    "total_adults = 0\n",
    "total_children = 0\n",
    "\n",
    "for reservation in reservations:\n",
    "    total_adults += reservation[\"adults\"]\n",
    "    total_children += reservation[\"children\"]\n",
    "    \n",
    "avg_adults = total_adults/len(reservations)\n",
    "avg_children = total_children/len(reservations)\n",
    "\n",
    "print(f\"Each reservation has on an average {avg_adults} adults and {avg_children} children\")"
   ]
  },
  {
   "cell_type": "markdown",
   "metadata": {},
   "source": [
    "Those values feel very wrong when talking about people. Lets try rounding them"
   ]
  },
  {
   "cell_type": "code",
   "execution_count": 13,
   "metadata": {
    "ExecuteTime": {
     "end_time": "2022-07-28T18:54:50.048842Z",
     "start_time": "2022-07-28T18:54:50.046492Z"
    }
   },
   "outputs": [
    {
     "name": "stdout",
     "output_type": "stream",
     "text": [
      "Each reservation has on an average 2 adults and 0 children\n"
     ]
    }
   ],
   "source": [
    "print(f\"Each reservation has on an average {round(avg_adults)} adults and {round(avg_children)} children\")"
   ]
  },
  {
   "cell_type": "markdown",
   "metadata": {},
   "source": [
    "### What is the average stay in week nights?"
   ]
  },
  {
   "cell_type": "code",
   "execution_count": 14,
   "metadata": {
    "ExecuteTime": {
     "end_time": "2022-07-28T18:54:50.051823Z",
     "start_time": "2022-07-28T18:54:50.050245Z"
    }
   },
   "outputs": [],
   "source": [
    "# code here"
   ]
  },
  {
   "cell_type": "code",
   "execution_count": 15,
   "metadata": {
    "ExecuteTime": {
     "end_time": "2022-07-28T18:54:50.065298Z",
     "start_time": "2022-07-28T18:54:50.054919Z"
    }
   },
   "outputs": [
    {
     "data": {
      "text/html": [
       "<script>\n",
       "code_show=true; \n",
       "function code_toggle() {\n",
       "    if (code_show){\n",
       "        $('div.cell.code_cell.rendered.selected div.input').hide();\n",
       "    } else {\n",
       "        $('div.cell.code_cell.rendered.selected div.input').show();\n",
       "    }\n",
       "    code_show = !code_show\n",
       "} \n",
       "$( document ).ready(code_toggle);\n",
       "</script>\n",
       "To view the solution click <a href=\"javascript:code_toggle()\">here</a>."
      ],
      "text/plain": [
       "<IPython.core.display.HTML object>"
      ]
     },
     "metadata": {},
     "output_type": "display_data"
    }
   ],
   "source": [
    "from IPython.display import HTML\n",
    "from IPython.display import display\n",
    "\n",
    "# Taken from https://stackoverflow.com/questions/31517194/how-to-hide-one-specific-cell-input-or-output-in-ipython-notebook\n",
    "tag = HTML('''<script>\n",
    "code_show=true; \n",
    "function code_toggle() {\n",
    "    if (code_show){\n",
    "        $('div.cell.code_cell.rendered.selected div.input').hide();\n",
    "    } else {\n",
    "        $('div.cell.code_cell.rendered.selected div.input').show();\n",
    "    }\n",
    "    code_show = !code_show\n",
    "} \n",
    "$( document ).ready(code_toggle);\n",
    "</script>\n",
    "To view the solution click <a href=\"javascript:code_toggle()\">here</a>.''')\n",
    "display(tag)\n",
    "\n",
    "## ignore the code above this line\n",
    "\n",
    "total_nights = 0\n",
    "\n",
    "for reservation in reservations:\n",
    "    total_nights += reservation[\"stays_in_week_nights\"]\n",
    "    \n",
    "avg_nights = total_nights/len(reservations)\n",
    "\n",
    "#print(f\"Each reservation has on an average {avg_adults}\")"
   ]
  },
  {
   "cell_type": "markdown",
   "metadata": {},
   "source": [
    "### Which hotel is most popular based on the number of reservations? (there are 2 types of hotels)"
   ]
  },
  {
   "cell_type": "code",
   "execution_count": 16,
   "metadata": {
    "ExecuteTime": {
     "end_time": "2022-07-28T18:54:50.075096Z",
     "start_time": "2022-07-28T18:54:50.067648Z"
    }
   },
   "outputs": [],
   "source": [
    "# code here\n",
    "# the two hotels are stored as 'City Hotel' and 'Resort Hotel'\n",
    "# store the result in a dictionary with the key \n",
    "# as the name of the hotel and the value as the number of reservations."
   ]
  },
  {
   "cell_type": "code",
   "execution_count": 17,
   "metadata": {
    "ExecuteTime": {
     "end_time": "2022-07-28T18:54:50.084478Z",
     "start_time": "2022-07-28T18:54:50.077292Z"
    }
   },
   "outputs": [
    {
     "data": {
      "text/html": [
       "<script>\n",
       "code_show=true; \n",
       "function code_toggle() {\n",
       "    if (code_show){\n",
       "        $('div.cell.code_cell.rendered.selected div.input').hide();\n",
       "    } else {\n",
       "        $('div.cell.code_cell.rendered.selected div.input').show();\n",
       "    }\n",
       "    code_show = !code_show\n",
       "} \n",
       "$( document ).ready(code_toggle);\n",
       "</script>\n",
       "To show/hide this cell's raw code input, click <a href=\"javascript:code_toggle()\">here</a>."
      ],
      "text/plain": [
       "<IPython.core.display.HTML object>"
      ]
     },
     "metadata": {},
     "output_type": "display_data"
    }
   ],
   "source": [
    "from IPython.display import HTML\n",
    "from IPython.display import display\n",
    "\n",
    "# Taken from https://stackoverflow.com/questions/31517194/how-to-hide-one-specific-cell-input-or-output-in-ipython-notebook\n",
    "tag = HTML('''<script>\n",
    "code_show=true; \n",
    "function code_toggle() {\n",
    "    if (code_show){\n",
    "        $('div.cell.code_cell.rendered.selected div.input').hide();\n",
    "    } else {\n",
    "        $('div.cell.code_cell.rendered.selected div.input').show();\n",
    "    }\n",
    "    code_show = !code_show\n",
    "} \n",
    "$( document ).ready(code_toggle);\n",
    "</script>\n",
    "To show/hide this cell's raw code input, click <a href=\"javascript:code_toggle()\">here</a>.''')\n",
    "display(tag)\n",
    "\n",
    "\n",
    "## ignore the code above this line\n",
    "\n",
    "total_stays_city_hotel = 0\n",
    "total_stays_resort_hotel = 0\n",
    "\n",
    "for reservation in reservations:\n",
    "    if reservation[\"hotel\"] == \"City Hotel\":\n",
    "        total_stays_city_hotel += 1\n",
    "    elif reservation[\"hotel\"] == \"Resort Hotel\":\n",
    "        total_stays_resort_hotel += 1\n",
    "    \n",
    "\n",
    "#print(f\"The City Hotel has {total_stays_city_hotel} stays and the Resort Hotels\" +\\\n",
    "#        f\" has {total_stays_resort_hotel} stays\")"
   ]
  },
  {
   "cell_type": "markdown",
   "metadata": {},
   "source": [
    "## Visualizing the results"
   ]
  },
  {
   "cell_type": "code",
   "execution_count": 18,
   "metadata": {
    "ExecuteTime": {
     "end_time": "2022-07-28T18:54:50.535594Z",
     "start_time": "2022-07-28T18:54:50.086749Z"
    }
   },
   "outputs": [],
   "source": [
    "import matplotlib.pyplot as plt"
   ]
  },
  {
   "cell_type": "code",
   "execution_count": 20,
   "metadata": {
    "ExecuteTime": {
     "end_time": "2022-07-28T18:55:11.661167Z",
     "start_time": "2022-07-28T18:55:11.659085Z"
    }
   },
   "outputs": [],
   "source": [
    "# add the plots here"
   ]
  },
  {
   "cell_type": "code",
   "execution_count": 19,
   "metadata": {
    "ExecuteTime": {
     "end_time": "2022-07-28T18:54:50.538956Z",
     "start_time": "2022-07-28T18:54:50.537056Z"
    }
   },
   "outputs": [],
   "source": [
    "# Make a bar plot based on the dictionary you created for the third analysis question"
   ]
  }
 ],
 "metadata": {
  "kernelspec": {
   "display_name": "Python 3",
   "language": "python",
   "name": "python3"
  },
  "language_info": {
   "codemirror_mode": {
    "name": "ipython",
    "version": 3
   },
   "file_extension": ".py",
   "mimetype": "text/x-python",
   "name": "python",
   "nbconvert_exporter": "python",
   "pygments_lexer": "ipython3",
   "version": "3.8.5"
  },
  "toc": {
   "base_numbering": 1,
   "nav_menu": {},
   "number_sections": true,
   "sideBar": true,
   "skip_h1_title": false,
   "title_cell": "Table of Contents",
   "title_sidebar": "Contents",
   "toc_cell": false,
   "toc_position": {},
   "toc_section_display": true,
   "toc_window_display": false
  },
  "varInspector": {
   "cols": {
    "lenName": 16,
    "lenType": 16,
    "lenVar": 40
   },
   "kernels_config": {
    "python": {
     "delete_cmd_postfix": "",
     "delete_cmd_prefix": "del ",
     "library": "var_list.py",
     "varRefreshCmd": "print(var_dic_list())"
    },
    "r": {
     "delete_cmd_postfix": ") ",
     "delete_cmd_prefix": "rm(",
     "library": "var_list.r",
     "varRefreshCmd": "cat(var_dic_list()) "
    }
   },
   "types_to_exclude": [
    "module",
    "function",
    "builtin_function_or_method",
    "instance",
    "_Feature"
   ],
   "window_display": false
  }
 },
 "nbformat": 4,
 "nbformat_minor": 4
}
